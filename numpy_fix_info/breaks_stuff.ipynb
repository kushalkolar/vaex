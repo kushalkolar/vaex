{
 "cells": [
  {
   "cell_type": "code",
   "execution_count": 2,
   "metadata": {},
   "outputs": [],
   "source": [
    "from mesmerize import Transmission\n",
    "import pandas as pd\n",
    "import vaex"
   ]
  },
  {
   "cell_type": "code",
   "execution_count": 3,
   "metadata": {},
   "outputs": [],
   "source": [
    "df = pd.read_csv('./non_numpy_data.csv')"
   ]
  },
  {
   "cell_type": "markdown",
   "metadata": {},
   "source": [
    "### Unfortunately .all() breaks this normal functionality"
   ]
  },
  {
   "cell_type": "code",
   "execution_count": 4,
   "metadata": {},
   "outputs": [
    {
     "name": "stdout",
     "output_type": "stream",
     "text": [
      "could not convert column CurvePath, error: AttributeError(\"'str' object has no attribute 'all'\",), will try to convert it to string\n",
      "could not convert column ImgInfoPath, error: AttributeError(\"'str' object has no attribute 'all'\",), will try to convert it to string\n",
      "could not convert column ImgPath, error: AttributeError(\"'str' object has no attribute 'all'\",), will try to convert it to string\n",
      "could not convert column ImgUUID, error: AttributeError(\"'str' object has no attribute 'all'\",), will try to convert it to string\n",
      "could not convert column ROI_State, error: AttributeError(\"'str' object has no attribute 'all'\",), will try to convert it to string\n",
      "could not convert column SampleID, error: AttributeError(\"'str' object has no attribute 'all'\",), will try to convert it to string\n",
      "could not convert column anatomical_location, error: AttributeError(\"'str' object has no attribute 'all'\",), will try to convert it to string\n",
      "could not convert column cell_name, error: AttributeError(\"'str' object has no attribute 'all'\",), will try to convert it to string\n",
      "could not convert column comments, error: AttributeError(\"'str' object has no attribute 'all'\",), will try to convert it to string\n",
      "could not convert column date, error: AttributeError(\"'str' object has no attribute 'all'\",), will try to convert it to string\n",
      "could not convert column dorso_ventral_axis, error: AttributeError(\"'str' object has no attribute 'all'\",), will try to convert it to string\n",
      "could not convert column misc, error: AttributeError(\"'str' object has no attribute 'all'\",), will try to convert it to string\n",
      "could not convert column morphology, error: AttributeError(\"'str' object has no attribute 'all'\",), will try to convert it to string\n",
      "could not convert column promoter, error: AttributeError(\"'str' object has no attribute 'all'\",), will try to convert it to string\n",
      "could not convert column rostro_caudal_axis, error: AttributeError(\"'str' object has no attribute 'all'\",), will try to convert it to string\n",
      "could not convert column stimulus_name, error: AttributeError(\"'str' object has no attribute 'all'\",), will try to convert it to string\n",
      "could not convert column uuid_curve, error: AttributeError(\"'str' object has no attribute 'all'\",), will try to convert it to string\n",
      "could not convert column meta, error: AttributeError(\"'str' object has no attribute 'all'\",), will try to convert it to string\n",
      "could not convert column stim_maps, error: AttributeError(\"'str' object has no attribute 'all'\",), will try to convert it to string\n"
     ]
    }
   ],
   "source": [
    "vdf = vaex.from_pandas(df)"
   ]
  },
  {
   "cell_type": "code",
   "execution_count": null,
   "metadata": {},
   "outputs": [],
   "source": []
  }
 ],
 "metadata": {
  "kernelspec": {
   "display_name": "Python 3",
   "language": "python",
   "name": "python3"
  },
  "language_info": {
   "codemirror_mode": {
    "name": "ipython",
    "version": 3
   },
   "file_extension": ".py",
   "mimetype": "text/x-python",
   "name": "python",
   "nbconvert_exporter": "python",
   "pygments_lexer": "ipython3",
   "version": "3.6.8"
  }
 },
 "nbformat": 4,
 "nbformat_minor": 4
}
